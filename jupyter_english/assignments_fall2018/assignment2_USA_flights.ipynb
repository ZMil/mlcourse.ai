{
 "cells": [
  {
   "cell_type": "markdown",
   "metadata": {},
   "source": [
    "<center>\n",
    "<img src=\"../../img/ods_stickers.jpg\" />\n",
    "    \n",
    "## [mlcourse.ai](mlcourse.ai) – Open Machine Learning Course \n",
    "\n",
    "Author: [Yury Kashnitskiy](https://yorko.github.io). \n",
    "Translated and edited by [Maxim Keremet](https://www.linkedin.com/in/maximkeremet/), [Artem Trunov](https://www.linkedin.com/in/datamove/), and [Aditya Soni](https://www.linkedin.com/in/aditya-soni-0505a9124/). This material is subject to the terms and conditions of the [Creative Commons CC BY-NC-SA 4.0](https://creativecommons.org/licenses/by-nc-sa/4.0/) license. Free use is permitted for any non-commercial purpose."
   ]
  },
  {
   "cell_type": "markdown",
   "metadata": {},
   "source": [
    "# <center>Assignment #2. Fall 2018 <br> Exploratory Data Analysis (EDA) of US flights <br> (using Pandas, Matplotlib & Seaborn)\n",
    "\n",
    "<img src='../../img/plane_sunset.png' width=50%>\n",
    "\n",
    "Prior to working on the assignment, you'd better check out the corresponding course material:\n",
    " - [Visualization: from Simple Distributions to Dimensionality Reduction](https://mlcourse.ai/notebooks/blob/master/jupyter_english/topic02_visual_data_analysis/topic2_visual_data_analysis.ipynb?flush_cache=true)\n",
    " - [Overview of Seaborn, Matplotlib and Plotly libraries](https://mlcourse.ai/notebooks/blob/master/jupyter_english/topic02_visual_data_analysis/topic2_additional_seaborn_matplotlib_plotly.ipynb?flush_cache=true)\n",
    " - first lectures in [this](https://www.youtube.com/watch?v=QKTuw4PNOsU&list=PLVlY_7IJCMJeRfZ68eVfEcu-UcN9BbwiX) YouTube playlist \n",
    "\n",
    "### Your task is to:\n",
    " - write code and perform computations in the cells below\n",
    " - choose answers in the [webform](https://docs.google.com/forms/d/1qSTjLAGqsmpFRhacv0vM-CMQSTT_mtOalNXdRTcdtM0/edit)\n",
    " - submit answers with **the very same email and name** as in assignment 1. This is a part of the assignment, if you don't manage to do so, you won't get credits. If in doubt, you can re-submit A1 form till the deadline for A1, no problem\n",
    " \n",
    "### <center> Deadline for A2: 2018 October 21, 20:59 CET\n",
    "\n"
   ]
  },
  {
   "cell_type": "code",
   "execution_count": 2,
   "metadata": {},
   "outputs": [],
   "source": [
    "import numpy as np\n",
    "import pandas as pd\n",
    "# pip install seaborn \n",
    "import seaborn as sns\n",
    "import matplotlib.pyplot as plt"
   ]
  },
  {
   "cell_type": "markdown",
   "metadata": {},
   "source": [
    "* Download the data [archive](http://stat-computing.org/dataexpo/2009/2008.csv.bz2) (Archived ~ 114 Mb, unzipped - ~ 690 Mb). No need to unzip - pandas can unbzip on the fly.\n",
    "* Place it in the \"../../data\" folder, or change the path below according to your location.\n",
    "* The dataset has information about carriers and flights between US airports during the year 2008. \n",
    "* Column description is available [here](http://www.transtats.bts.gov/Fields.asp?Table_ID=236). Visit this site to find ex. meaning of flight cancellation codes."
   ]
  },
  {
   "cell_type": "markdown",
   "metadata": {},
   "source": [
    "**Reading data into memory and creating a Pandas _DataFrame_ object**\n",
    "\n",
    "(This may take a while, be patient)\n",
    "\n",
    "We are not going to read in the whole dataset. In order to reduce memory footprint, we instead load only needed columns and cast them suitable data types."
   ]
  },
  {
   "cell_type": "code",
   "execution_count": 3,
   "metadata": {},
   "outputs": [],
   "source": [
    "dtype = {'DayOfWeek': np.uint8, 'DayofMonth': np.uint8, 'Month': np.uint8 , 'Cancelled': np.uint8, \n",
    "         'Year': np.uint16, 'FlightNum': np.uint16 , 'Distance': np.uint16, \n",
    "         'UniqueCarrier': str, 'CancellationCode': str, 'Origin': str, 'Dest': str,\n",
    "         'ArrDelay': np.float16, 'DepDelay': np.float16, 'CarrierDelay': np.float16,\n",
    "         'WeatherDelay': np.float16, 'NASDelay': np.float16, 'SecurityDelay': np.float16,\n",
    "         'LateAircraftDelay': np.float16, 'DepTime': np.float16}"
   ]
  },
  {
   "cell_type": "code",
   "execution_count": 4,
   "metadata": {},
   "outputs": [
    {
     "name": "stdout",
     "output_type": "stream",
     "text": [
      "Wall time: 31 s\n"
     ]
    }
   ],
   "source": [
    "%%time\n",
    "# change the path if needed\n",
    "path = '../../data/2008.csv.bz2'\n",
    "flights_df = pd.read_csv(path, usecols=dtype.keys(), dtype=dtype)"
   ]
  },
  {
   "cell_type": "markdown",
   "metadata": {},
   "source": [
    "**Check the number of rows and columns and print column names.**"
   ]
  },
  {
   "cell_type": "code",
   "execution_count": 4,
   "metadata": {},
   "outputs": [
    {
     "name": "stdout",
     "output_type": "stream",
     "text": [
      "(7009728, 19)\n",
      "Index([u'Year', u'Month', u'DayofMonth', u'DayOfWeek', u'DepTime',\n",
      "       u'UniqueCarrier', u'FlightNum', u'ArrDelay', u'DepDelay', u'Origin',\n",
      "       u'Dest', u'Distance', u'Cancelled', u'CancellationCode',\n",
      "       u'CarrierDelay', u'WeatherDelay', u'NASDelay', u'SecurityDelay',\n",
      "       u'LateAircraftDelay'],\n",
      "      dtype='object')\n"
     ]
    }
   ],
   "source": [
    "print(flights_df.shape)\n",
    "print(flights_df.columns)"
   ]
  },
  {
   "cell_type": "markdown",
   "metadata": {},
   "source": [
    "**Print first 5 rows of the dataset.**"
   ]
  },
  {
   "cell_type": "code",
   "execution_count": 6,
   "metadata": {},
   "outputs": [
    {
     "data": {
      "text/html": [
       "<div>\n",
       "<style scoped>\n",
       "    .dataframe tbody tr th:only-of-type {\n",
       "        vertical-align: middle;\n",
       "    }\n",
       "\n",
       "    .dataframe tbody tr th {\n",
       "        vertical-align: top;\n",
       "    }\n",
       "\n",
       "    .dataframe thead th {\n",
       "        text-align: right;\n",
       "    }\n",
       "</style>\n",
       "<table border=\"1\" class=\"dataframe\">\n",
       "  <thead>\n",
       "    <tr style=\"text-align: right;\">\n",
       "      <th></th>\n",
       "      <th>Year</th>\n",
       "      <th>Month</th>\n",
       "      <th>DayofMonth</th>\n",
       "      <th>DayOfWeek</th>\n",
       "      <th>DepTime</th>\n",
       "      <th>UniqueCarrier</th>\n",
       "      <th>FlightNum</th>\n",
       "      <th>ArrDelay</th>\n",
       "      <th>DepDelay</th>\n",
       "      <th>Origin</th>\n",
       "      <th>Dest</th>\n",
       "      <th>Distance</th>\n",
       "      <th>Cancelled</th>\n",
       "      <th>CancellationCode</th>\n",
       "      <th>CarrierDelay</th>\n",
       "      <th>WeatherDelay</th>\n",
       "      <th>NASDelay</th>\n",
       "      <th>SecurityDelay</th>\n",
       "      <th>LateAircraftDelay</th>\n",
       "    </tr>\n",
       "  </thead>\n",
       "  <tbody>\n",
       "    <tr>\n",
       "      <th>0</th>\n",
       "      <td>2008</td>\n",
       "      <td>1</td>\n",
       "      <td>3</td>\n",
       "      <td>4</td>\n",
       "      <td>2003.0</td>\n",
       "      <td>WN</td>\n",
       "      <td>335</td>\n",
       "      <td>-14.0</td>\n",
       "      <td>8.0</td>\n",
       "      <td>IAD</td>\n",
       "      <td>TPA</td>\n",
       "      <td>810</td>\n",
       "      <td>0</td>\n",
       "      <td>NaN</td>\n",
       "      <td>NaN</td>\n",
       "      <td>NaN</td>\n",
       "      <td>NaN</td>\n",
       "      <td>NaN</td>\n",
       "      <td>NaN</td>\n",
       "    </tr>\n",
       "    <tr>\n",
       "      <th>1</th>\n",
       "      <td>2008</td>\n",
       "      <td>1</td>\n",
       "      <td>3</td>\n",
       "      <td>4</td>\n",
       "      <td>754.0</td>\n",
       "      <td>WN</td>\n",
       "      <td>3231</td>\n",
       "      <td>2.0</td>\n",
       "      <td>19.0</td>\n",
       "      <td>IAD</td>\n",
       "      <td>TPA</td>\n",
       "      <td>810</td>\n",
       "      <td>0</td>\n",
       "      <td>NaN</td>\n",
       "      <td>NaN</td>\n",
       "      <td>NaN</td>\n",
       "      <td>NaN</td>\n",
       "      <td>NaN</td>\n",
       "      <td>NaN</td>\n",
       "    </tr>\n",
       "    <tr>\n",
       "      <th>2</th>\n",
       "      <td>2008</td>\n",
       "      <td>1</td>\n",
       "      <td>3</td>\n",
       "      <td>4</td>\n",
       "      <td>628.0</td>\n",
       "      <td>WN</td>\n",
       "      <td>448</td>\n",
       "      <td>14.0</td>\n",
       "      <td>8.0</td>\n",
       "      <td>IND</td>\n",
       "      <td>BWI</td>\n",
       "      <td>515</td>\n",
       "      <td>0</td>\n",
       "      <td>NaN</td>\n",
       "      <td>NaN</td>\n",
       "      <td>NaN</td>\n",
       "      <td>NaN</td>\n",
       "      <td>NaN</td>\n",
       "      <td>NaN</td>\n",
       "    </tr>\n",
       "    <tr>\n",
       "      <th>3</th>\n",
       "      <td>2008</td>\n",
       "      <td>1</td>\n",
       "      <td>3</td>\n",
       "      <td>4</td>\n",
       "      <td>926.0</td>\n",
       "      <td>WN</td>\n",
       "      <td>1746</td>\n",
       "      <td>-6.0</td>\n",
       "      <td>-4.0</td>\n",
       "      <td>IND</td>\n",
       "      <td>BWI</td>\n",
       "      <td>515</td>\n",
       "      <td>0</td>\n",
       "      <td>NaN</td>\n",
       "      <td>NaN</td>\n",
       "      <td>NaN</td>\n",
       "      <td>NaN</td>\n",
       "      <td>NaN</td>\n",
       "      <td>NaN</td>\n",
       "    </tr>\n",
       "    <tr>\n",
       "      <th>4</th>\n",
       "      <td>2008</td>\n",
       "      <td>1</td>\n",
       "      <td>3</td>\n",
       "      <td>4</td>\n",
       "      <td>1829.0</td>\n",
       "      <td>WN</td>\n",
       "      <td>3920</td>\n",
       "      <td>34.0</td>\n",
       "      <td>34.0</td>\n",
       "      <td>IND</td>\n",
       "      <td>BWI</td>\n",
       "      <td>515</td>\n",
       "      <td>0</td>\n",
       "      <td>NaN</td>\n",
       "      <td>2.0</td>\n",
       "      <td>0.0</td>\n",
       "      <td>0.0</td>\n",
       "      <td>0.0</td>\n",
       "      <td>32.0</td>\n",
       "    </tr>\n",
       "  </tbody>\n",
       "</table>\n",
       "</div>"
      ],
      "text/plain": [
       "   Year  Month  DayofMonth  DayOfWeek  DepTime UniqueCarrier  FlightNum  \\\n",
       "0  2008      1           3          4   2003.0            WN        335   \n",
       "1  2008      1           3          4    754.0            WN       3231   \n",
       "2  2008      1           3          4    628.0            WN        448   \n",
       "3  2008      1           3          4    926.0            WN       1746   \n",
       "4  2008      1           3          4   1829.0            WN       3920   \n",
       "\n",
       "   ArrDelay  DepDelay Origin Dest  Distance  Cancelled CancellationCode  \\\n",
       "0     -14.0       8.0    IAD  TPA       810          0              NaN   \n",
       "1       2.0      19.0    IAD  TPA       810          0              NaN   \n",
       "2      14.0       8.0    IND  BWI       515          0              NaN   \n",
       "3      -6.0      -4.0    IND  BWI       515          0              NaN   \n",
       "4      34.0      34.0    IND  BWI       515          0              NaN   \n",
       "\n",
       "   CarrierDelay  WeatherDelay  NASDelay  SecurityDelay  LateAircraftDelay  \n",
       "0           NaN           NaN       NaN            NaN                NaN  \n",
       "1           NaN           NaN       NaN            NaN                NaN  \n",
       "2           NaN           NaN       NaN            NaN                NaN  \n",
       "3           NaN           NaN       NaN            NaN                NaN  \n",
       "4           2.0           0.0       0.0            0.0               32.0  "
      ]
     },
     "execution_count": 6,
     "metadata": {},
     "output_type": "execute_result"
    }
   ],
   "source": [
    "flights_df.head()"
   ]
  },
  {
   "cell_type": "markdown",
   "metadata": {},
   "source": [
    "**Transpose the frame to see all features at once.**"
   ]
  },
  {
   "cell_type": "code",
   "execution_count": 7,
   "metadata": {},
   "outputs": [
    {
     "data": {
      "text/html": [
       "<div>\n",
       "<style scoped>\n",
       "    .dataframe tbody tr th:only-of-type {\n",
       "        vertical-align: middle;\n",
       "    }\n",
       "\n",
       "    .dataframe tbody tr th {\n",
       "        vertical-align: top;\n",
       "    }\n",
       "\n",
       "    .dataframe thead th {\n",
       "        text-align: right;\n",
       "    }\n",
       "</style>\n",
       "<table border=\"1\" class=\"dataframe\">\n",
       "  <thead>\n",
       "    <tr style=\"text-align: right;\">\n",
       "      <th></th>\n",
       "      <th>0</th>\n",
       "      <th>1</th>\n",
       "      <th>2</th>\n",
       "      <th>3</th>\n",
       "      <th>4</th>\n",
       "    </tr>\n",
       "  </thead>\n",
       "  <tbody>\n",
       "    <tr>\n",
       "      <th>Year</th>\n",
       "      <td>2008</td>\n",
       "      <td>2008</td>\n",
       "      <td>2008</td>\n",
       "      <td>2008</td>\n",
       "      <td>2008</td>\n",
       "    </tr>\n",
       "    <tr>\n",
       "      <th>Month</th>\n",
       "      <td>1</td>\n",
       "      <td>1</td>\n",
       "      <td>1</td>\n",
       "      <td>1</td>\n",
       "      <td>1</td>\n",
       "    </tr>\n",
       "    <tr>\n",
       "      <th>DayofMonth</th>\n",
       "      <td>3</td>\n",
       "      <td>3</td>\n",
       "      <td>3</td>\n",
       "      <td>3</td>\n",
       "      <td>3</td>\n",
       "    </tr>\n",
       "    <tr>\n",
       "      <th>DayOfWeek</th>\n",
       "      <td>4</td>\n",
       "      <td>4</td>\n",
       "      <td>4</td>\n",
       "      <td>4</td>\n",
       "      <td>4</td>\n",
       "    </tr>\n",
       "    <tr>\n",
       "      <th>DepTime</th>\n",
       "      <td>2003</td>\n",
       "      <td>754</td>\n",
       "      <td>628</td>\n",
       "      <td>926</td>\n",
       "      <td>1829</td>\n",
       "    </tr>\n",
       "    <tr>\n",
       "      <th>UniqueCarrier</th>\n",
       "      <td>WN</td>\n",
       "      <td>WN</td>\n",
       "      <td>WN</td>\n",
       "      <td>WN</td>\n",
       "      <td>WN</td>\n",
       "    </tr>\n",
       "    <tr>\n",
       "      <th>FlightNum</th>\n",
       "      <td>335</td>\n",
       "      <td>3231</td>\n",
       "      <td>448</td>\n",
       "      <td>1746</td>\n",
       "      <td>3920</td>\n",
       "    </tr>\n",
       "    <tr>\n",
       "      <th>ArrDelay</th>\n",
       "      <td>-14</td>\n",
       "      <td>2</td>\n",
       "      <td>14</td>\n",
       "      <td>-6</td>\n",
       "      <td>34</td>\n",
       "    </tr>\n",
       "    <tr>\n",
       "      <th>DepDelay</th>\n",
       "      <td>8</td>\n",
       "      <td>19</td>\n",
       "      <td>8</td>\n",
       "      <td>-4</td>\n",
       "      <td>34</td>\n",
       "    </tr>\n",
       "    <tr>\n",
       "      <th>Origin</th>\n",
       "      <td>IAD</td>\n",
       "      <td>IAD</td>\n",
       "      <td>IND</td>\n",
       "      <td>IND</td>\n",
       "      <td>IND</td>\n",
       "    </tr>\n",
       "    <tr>\n",
       "      <th>Dest</th>\n",
       "      <td>TPA</td>\n",
       "      <td>TPA</td>\n",
       "      <td>BWI</td>\n",
       "      <td>BWI</td>\n",
       "      <td>BWI</td>\n",
       "    </tr>\n",
       "    <tr>\n",
       "      <th>Distance</th>\n",
       "      <td>810</td>\n",
       "      <td>810</td>\n",
       "      <td>515</td>\n",
       "      <td>515</td>\n",
       "      <td>515</td>\n",
       "    </tr>\n",
       "    <tr>\n",
       "      <th>Cancelled</th>\n",
       "      <td>0</td>\n",
       "      <td>0</td>\n",
       "      <td>0</td>\n",
       "      <td>0</td>\n",
       "      <td>0</td>\n",
       "    </tr>\n",
       "    <tr>\n",
       "      <th>CancellationCode</th>\n",
       "      <td>NaN</td>\n",
       "      <td>NaN</td>\n",
       "      <td>NaN</td>\n",
       "      <td>NaN</td>\n",
       "      <td>NaN</td>\n",
       "    </tr>\n",
       "    <tr>\n",
       "      <th>CarrierDelay</th>\n",
       "      <td>NaN</td>\n",
       "      <td>NaN</td>\n",
       "      <td>NaN</td>\n",
       "      <td>NaN</td>\n",
       "      <td>2</td>\n",
       "    </tr>\n",
       "    <tr>\n",
       "      <th>WeatherDelay</th>\n",
       "      <td>NaN</td>\n",
       "      <td>NaN</td>\n",
       "      <td>NaN</td>\n",
       "      <td>NaN</td>\n",
       "      <td>0</td>\n",
       "    </tr>\n",
       "    <tr>\n",
       "      <th>NASDelay</th>\n",
       "      <td>NaN</td>\n",
       "      <td>NaN</td>\n",
       "      <td>NaN</td>\n",
       "      <td>NaN</td>\n",
       "      <td>0</td>\n",
       "    </tr>\n",
       "    <tr>\n",
       "      <th>SecurityDelay</th>\n",
       "      <td>NaN</td>\n",
       "      <td>NaN</td>\n",
       "      <td>NaN</td>\n",
       "      <td>NaN</td>\n",
       "      <td>0</td>\n",
       "    </tr>\n",
       "    <tr>\n",
       "      <th>LateAircraftDelay</th>\n",
       "      <td>NaN</td>\n",
       "      <td>NaN</td>\n",
       "      <td>NaN</td>\n",
       "      <td>NaN</td>\n",
       "      <td>32</td>\n",
       "    </tr>\n",
       "  </tbody>\n",
       "</table>\n",
       "</div>"
      ],
      "text/plain": [
       "                      0     1     2     3     4\n",
       "Year               2008  2008  2008  2008  2008\n",
       "Month                 1     1     1     1     1\n",
       "DayofMonth            3     3     3     3     3\n",
       "DayOfWeek             4     4     4     4     4\n",
       "DepTime            2003   754   628   926  1829\n",
       "UniqueCarrier        WN    WN    WN    WN    WN\n",
       "FlightNum           335  3231   448  1746  3920\n",
       "ArrDelay            -14     2    14    -6    34\n",
       "DepDelay              8    19     8    -4    34\n",
       "Origin              IAD   IAD   IND   IND   IND\n",
       "Dest                TPA   TPA   BWI   BWI   BWI\n",
       "Distance            810   810   515   515   515\n",
       "Cancelled             0     0     0     0     0\n",
       "CancellationCode    NaN   NaN   NaN   NaN   NaN\n",
       "CarrierDelay        NaN   NaN   NaN   NaN     2\n",
       "WeatherDelay        NaN   NaN   NaN   NaN     0\n",
       "NASDelay            NaN   NaN   NaN   NaN     0\n",
       "SecurityDelay       NaN   NaN   NaN   NaN     0\n",
       "LateAircraftDelay   NaN   NaN   NaN   NaN    32"
      ]
     },
     "execution_count": 7,
     "metadata": {},
     "output_type": "execute_result"
    }
   ],
   "source": [
    "flights_df.head().T"
   ]
  },
  {
   "cell_type": "markdown",
   "metadata": {},
   "source": [
    "**Examine data types of all features and total dataframe size in memory.**"
   ]
  },
  {
   "cell_type": "code",
   "execution_count": 8,
   "metadata": {},
   "outputs": [
    {
     "name": "stdout",
     "output_type": "stream",
     "text": [
      "<class 'pandas.core.frame.DataFrame'>\n",
      "RangeIndex: 7009728 entries, 0 to 7009727\n",
      "Data columns (total 19 columns):\n",
      "Year                 uint16\n",
      "Month                uint8\n",
      "DayofMonth           uint8\n",
      "DayOfWeek            uint8\n",
      "DepTime              float16\n",
      "UniqueCarrier        object\n",
      "FlightNum            uint16\n",
      "ArrDelay             float16\n",
      "DepDelay             float16\n",
      "Origin               object\n",
      "Dest                 object\n",
      "Distance             uint16\n",
      "Cancelled            uint8\n",
      "CancellationCode     object\n",
      "CarrierDelay         float16\n",
      "WeatherDelay         float16\n",
      "NASDelay             float16\n",
      "SecurityDelay        float16\n",
      "LateAircraftDelay    float16\n",
      "dtypes: float16(8), object(4), uint16(3), uint8(4)\n",
      "memory usage: 280.8+ MB\n"
     ]
    }
   ],
   "source": [
    "flights_df.info()"
   ]
  },
  {
   "cell_type": "markdown",
   "metadata": {},
   "source": [
    "**Get basic statistics of each feature.**"
   ]
  },
  {
   "cell_type": "code",
   "execution_count": 22,
   "metadata": {},
   "outputs": [
    {
     "data": {
      "text/html": [
       "<div>\n",
       "<style scoped>\n",
       "    .dataframe tbody tr th:only-of-type {\n",
       "        vertical-align: middle;\n",
       "    }\n",
       "\n",
       "    .dataframe tbody tr th {\n",
       "        vertical-align: top;\n",
       "    }\n",
       "\n",
       "    .dataframe thead th {\n",
       "        text-align: right;\n",
       "    }\n",
       "</style>\n",
       "<table border=\"1\" class=\"dataframe\">\n",
       "  <thead>\n",
       "    <tr style=\"text-align: right;\">\n",
       "      <th></th>\n",
       "      <th>count</th>\n",
       "      <th>mean</th>\n",
       "      <th>std</th>\n",
       "      <th>min</th>\n",
       "      <th>25%</th>\n",
       "      <th>50%</th>\n",
       "      <th>75%</th>\n",
       "      <th>max</th>\n",
       "    </tr>\n",
       "  </thead>\n",
       "  <tbody>\n",
       "    <tr>\n",
       "      <th>Year</th>\n",
       "      <td>7009728.0</td>\n",
       "      <td>2008.000000</td>\n",
       "      <td>0.000000</td>\n",
       "      <td>2008.0</td>\n",
       "      <td>2008.0</td>\n",
       "      <td>2008.0</td>\n",
       "      <td>2008.0</td>\n",
       "      <td>2008.0</td>\n",
       "    </tr>\n",
       "    <tr>\n",
       "      <th>Month</th>\n",
       "      <td>7009728.0</td>\n",
       "      <td>6.375130</td>\n",
       "      <td>3.406737</td>\n",
       "      <td>1.0</td>\n",
       "      <td>3.0</td>\n",
       "      <td>6.0</td>\n",
       "      <td>9.0</td>\n",
       "      <td>12.0</td>\n",
       "    </tr>\n",
       "    <tr>\n",
       "      <th>DayofMonth</th>\n",
       "      <td>7009728.0</td>\n",
       "      <td>15.728015</td>\n",
       "      <td>8.797068</td>\n",
       "      <td>1.0</td>\n",
       "      <td>8.0</td>\n",
       "      <td>16.0</td>\n",
       "      <td>23.0</td>\n",
       "      <td>31.0</td>\n",
       "    </tr>\n",
       "    <tr>\n",
       "      <th>DayOfWeek</th>\n",
       "      <td>7009728.0</td>\n",
       "      <td>3.924182</td>\n",
       "      <td>1.988259</td>\n",
       "      <td>1.0</td>\n",
       "      <td>2.0</td>\n",
       "      <td>4.0</td>\n",
       "      <td>6.0</td>\n",
       "      <td>7.0</td>\n",
       "    </tr>\n",
       "    <tr>\n",
       "      <th>DepTime</th>\n",
       "      <td>6873482.0</td>\n",
       "      <td>NaN</td>\n",
       "      <td>NaN</td>\n",
       "      <td>1.0</td>\n",
       "      <td>928.0</td>\n",
       "      <td>1325.0</td>\n",
       "      <td>1728.0</td>\n",
       "      <td>2400.0</td>\n",
       "    </tr>\n",
       "    <tr>\n",
       "      <th>FlightNum</th>\n",
       "      <td>7009728.0</td>\n",
       "      <td>2224.200105</td>\n",
       "      <td>1961.715999</td>\n",
       "      <td>1.0</td>\n",
       "      <td>622.0</td>\n",
       "      <td>1571.0</td>\n",
       "      <td>3518.0</td>\n",
       "      <td>9743.0</td>\n",
       "    </tr>\n",
       "    <tr>\n",
       "      <th>ArrDelay</th>\n",
       "      <td>6855029.0</td>\n",
       "      <td>NaN</td>\n",
       "      <td>NaN</td>\n",
       "      <td>-519.0</td>\n",
       "      <td>-10.0</td>\n",
       "      <td>-2.0</td>\n",
       "      <td>12.0</td>\n",
       "      <td>2460.0</td>\n",
       "    </tr>\n",
       "    <tr>\n",
       "      <th>DepDelay</th>\n",
       "      <td>6873482.0</td>\n",
       "      <td>NaN</td>\n",
       "      <td>NaN</td>\n",
       "      <td>-534.0</td>\n",
       "      <td>-4.0</td>\n",
       "      <td>-1.0</td>\n",
       "      <td>8.0</td>\n",
       "      <td>2468.0</td>\n",
       "    </tr>\n",
       "    <tr>\n",
       "      <th>Distance</th>\n",
       "      <td>7009728.0</td>\n",
       "      <td>726.387029</td>\n",
       "      <td>562.101803</td>\n",
       "      <td>11.0</td>\n",
       "      <td>325.0</td>\n",
       "      <td>581.0</td>\n",
       "      <td>954.0</td>\n",
       "      <td>4962.0</td>\n",
       "    </tr>\n",
       "    <tr>\n",
       "      <th>Cancelled</th>\n",
       "      <td>7009728.0</td>\n",
       "      <td>0.019606</td>\n",
       "      <td>0.138643</td>\n",
       "      <td>0.0</td>\n",
       "      <td>0.0</td>\n",
       "      <td>0.0</td>\n",
       "      <td>0.0</td>\n",
       "      <td>1.0</td>\n",
       "    </tr>\n",
       "    <tr>\n",
       "      <th>CarrierDelay</th>\n",
       "      <td>1524735.0</td>\n",
       "      <td>NaN</td>\n",
       "      <td>NaN</td>\n",
       "      <td>0.0</td>\n",
       "      <td>0.0</td>\n",
       "      <td>0.0</td>\n",
       "      <td>16.0</td>\n",
       "      <td>2436.0</td>\n",
       "    </tr>\n",
       "    <tr>\n",
       "      <th>WeatherDelay</th>\n",
       "      <td>1524735.0</td>\n",
       "      <td>NaN</td>\n",
       "      <td>NaN</td>\n",
       "      <td>0.0</td>\n",
       "      <td>0.0</td>\n",
       "      <td>0.0</td>\n",
       "      <td>0.0</td>\n",
       "      <td>1352.0</td>\n",
       "    </tr>\n",
       "    <tr>\n",
       "      <th>NASDelay</th>\n",
       "      <td>1524735.0</td>\n",
       "      <td>NaN</td>\n",
       "      <td>NaN</td>\n",
       "      <td>0.0</td>\n",
       "      <td>0.0</td>\n",
       "      <td>6.0</td>\n",
       "      <td>21.0</td>\n",
       "      <td>1357.0</td>\n",
       "    </tr>\n",
       "    <tr>\n",
       "      <th>SecurityDelay</th>\n",
       "      <td>1524735.0</td>\n",
       "      <td>NaN</td>\n",
       "      <td>NaN</td>\n",
       "      <td>0.0</td>\n",
       "      <td>0.0</td>\n",
       "      <td>0.0</td>\n",
       "      <td>0.0</td>\n",
       "      <td>392.0</td>\n",
       "    </tr>\n",
       "    <tr>\n",
       "      <th>LateAircraftDelay</th>\n",
       "      <td>1524735.0</td>\n",
       "      <td>NaN</td>\n",
       "      <td>NaN</td>\n",
       "      <td>0.0</td>\n",
       "      <td>0.0</td>\n",
       "      <td>0.0</td>\n",
       "      <td>26.0</td>\n",
       "      <td>1316.0</td>\n",
       "    </tr>\n",
       "  </tbody>\n",
       "</table>\n",
       "</div>"
      ],
      "text/plain": [
       "                       count         mean          std     min     25%  \\\n",
       "Year               7009728.0  2008.000000     0.000000  2008.0  2008.0   \n",
       "Month              7009728.0     6.375130     3.406737     1.0     3.0   \n",
       "DayofMonth         7009728.0    15.728015     8.797068     1.0     8.0   \n",
       "DayOfWeek          7009728.0     3.924182     1.988259     1.0     2.0   \n",
       "DepTime            6873482.0          NaN          NaN     1.0   928.0   \n",
       "FlightNum          7009728.0  2224.200105  1961.715999     1.0   622.0   \n",
       "ArrDelay           6855029.0          NaN          NaN  -519.0   -10.0   \n",
       "DepDelay           6873482.0          NaN          NaN  -534.0    -4.0   \n",
       "Distance           7009728.0   726.387029   562.101803    11.0   325.0   \n",
       "Cancelled          7009728.0     0.019606     0.138643     0.0     0.0   \n",
       "CarrierDelay       1524735.0          NaN          NaN     0.0     0.0   \n",
       "WeatherDelay       1524735.0          NaN          NaN     0.0     0.0   \n",
       "NASDelay           1524735.0          NaN          NaN     0.0     0.0   \n",
       "SecurityDelay      1524735.0          NaN          NaN     0.0     0.0   \n",
       "LateAircraftDelay  1524735.0          NaN          NaN     0.0     0.0   \n",
       "\n",
       "                      50%     75%     max  \n",
       "Year               2008.0  2008.0  2008.0  \n",
       "Month                 6.0     9.0    12.0  \n",
       "DayofMonth           16.0    23.0    31.0  \n",
       "DayOfWeek             4.0     6.0     7.0  \n",
       "DepTime            1325.0  1728.0  2400.0  \n",
       "FlightNum          1571.0  3518.0  9743.0  \n",
       "ArrDelay             -2.0    12.0  2460.0  \n",
       "DepDelay             -1.0     8.0  2468.0  \n",
       "Distance            581.0   954.0  4962.0  \n",
       "Cancelled             0.0     0.0     1.0  \n",
       "CarrierDelay          0.0    16.0  2436.0  \n",
       "WeatherDelay          0.0     0.0  1352.0  \n",
       "NASDelay              6.0    21.0  1357.0  \n",
       "SecurityDelay         0.0     0.0   392.0  \n",
       "LateAircraftDelay     0.0    26.0  1316.0  "
      ]
     },
     "execution_count": 22,
     "metadata": {},
     "output_type": "execute_result"
    }
   ],
   "source": [
    "flights_df.describe().T"
   ]
  },
  {
   "cell_type": "markdown",
   "metadata": {},
   "source": [
    "**Count unique Carriers and plot their relative share of flights:**"
   ]
  },
  {
   "cell_type": "code",
   "execution_count": 10,
   "metadata": {},
   "outputs": [
    {
     "data": {
      "text/plain": [
       "20"
      ]
     },
     "execution_count": 10,
     "metadata": {},
     "output_type": "execute_result"
    }
   ],
   "source": [
    "flights_df['UniqueCarrier'].nunique()"
   ]
  },
  {
   "cell_type": "code",
   "execution_count": 4,
   "metadata": {},
   "outputs": [
    {
     "data": {
      "image/png": "[encoded data removed]",
      "text/plain": [
       "<Figure size 432x288 with 1 Axes>"
      ]
     },
     "metadata": {
      "needs_background": "light"
     },
     "output_type": "display_data"
    }
   ],
   "source": [
    "flights_df.groupby('UniqueCarrier').size().plot(kind='bar');"
   ]
  },
  {
   "cell_type": "markdown",
   "metadata": {},
   "source": [
    "**We can also _group by_ category/categories in order to calculate different aggregated statistics.**\n",
    "\n",
    "**For example, finding top-3 flight codes, that have the largest total distance travelled in year 2008.**"
   ]
  },
  {
   "cell_type": "code",
   "execution_count": 11,
   "metadata": {},
   "outputs": [
    {
     "data": {
      "text/plain": [
       "UniqueCarrier  FlightNum\n",
       "CO             15           1796244.0\n",
       "               14           1796244.0\n",
       "UA             52           1789722.0\n",
       "Name: Distance, dtype: float64"
      ]
     },
     "execution_count": 11,
     "metadata": {},
     "output_type": "execute_result"
    }
   ],
   "source": [
    "flights_df.groupby(['UniqueCarrier','FlightNum'])['Distance'].sum().sort_values(ascending=False).iloc[:3]"
   ]
  },
  {
   "cell_type": "markdown",
   "metadata": {},
   "source": [
    "**Another way:**"
   ]
  },
  {
   "cell_type": "code",
   "execution_count": 12,
   "metadata": {},
   "outputs": [
    {
     "data": {
      "text/html": [
       "<div>\n",
       "<style scoped>\n",
       "    .dataframe tbody tr th:only-of-type {\n",
       "        vertical-align: middle;\n",
       "    }\n",
       "\n",
       "    .dataframe tbody tr th {\n",
       "        vertical-align: top;\n",
       "    }\n",
       "\n",
       "    .dataframe thead tr th {\n",
       "        text-align: left;\n",
       "    }\n",
       "\n",
       "    .dataframe thead tr:last-of-type th {\n",
       "        text-align: right;\n",
       "    }\n",
       "</style>\n",
       "<table border=\"1\" class=\"dataframe\">\n",
       "  <thead>\n",
       "    <tr>\n",
       "      <th></th>\n",
       "      <th></th>\n",
       "      <th colspan=\"3\" halign=\"left\">Distance</th>\n",
       "      <th>Cancelled</th>\n",
       "    </tr>\n",
       "    <tr>\n",
       "      <th></th>\n",
       "      <th></th>\n",
       "      <th>mean</th>\n",
       "      <th>sum</th>\n",
       "      <th>count</th>\n",
       "      <th>sum</th>\n",
       "    </tr>\n",
       "    <tr>\n",
       "      <th>UniqueCarrier</th>\n",
       "      <th>FlightNum</th>\n",
       "      <th></th>\n",
       "      <th></th>\n",
       "      <th></th>\n",
       "      <th></th>\n",
       "    </tr>\n",
       "  </thead>\n",
       "  <tbody>\n",
       "    <tr>\n",
       "      <th rowspan=\"2\" valign=\"top\">CO</th>\n",
       "      <th>15</th>\n",
       "      <td>4962.000000</td>\n",
       "      <td>1796244.0</td>\n",
       "      <td>362</td>\n",
       "      <td>0</td>\n",
       "    </tr>\n",
       "    <tr>\n",
       "      <th>14</th>\n",
       "      <td>4962.000000</td>\n",
       "      <td>1796244.0</td>\n",
       "      <td>362</td>\n",
       "      <td>0</td>\n",
       "    </tr>\n",
       "    <tr>\n",
       "      <th>UA</th>\n",
       "      <th>52</th>\n",
       "      <td>2465.181818</td>\n",
       "      <td>1789722.0</td>\n",
       "      <td>726</td>\n",
       "      <td>8</td>\n",
       "    </tr>\n",
       "  </tbody>\n",
       "</table>\n",
       "</div>"
      ],
      "text/plain": [
       "                            Distance                  Cancelled\n",
       "                                mean        sum count       sum\n",
       "UniqueCarrier FlightNum                                        \n",
       "CO            15         4962.000000  1796244.0   362         0\n",
       "              14         4962.000000  1796244.0   362         0\n",
       "UA            52         2465.181818  1789722.0   726         8"
      ]
     },
     "execution_count": 12,
     "metadata": {},
     "output_type": "execute_result"
    }
   ],
   "source": [
    "flights_df.groupby(['UniqueCarrier','FlightNum'])\\\n",
    "  .agg({'Distance': [np.mean, np.sum, 'count'],\n",
    "        'Cancelled': np.sum})\\\n",
    "  .sort_values(('Distance', 'sum'), ascending=False)\\\n",
    "  .iloc[0:3]"
   ]
  },
  {
   "cell_type": "markdown",
   "metadata": {},
   "source": [
    "**Number of flights by days of week and months:**"
   ]
  },
  {
   "cell_type": "code",
   "execution_count": 13,
   "metadata": {},
   "outputs": [
    {
     "data": {
      "text/html": [
       "<div>\n",
       "<style scoped>\n",
       "    .dataframe tbody tr th:only-of-type {\n",
       "        vertical-align: middle;\n",
       "    }\n",
       "\n",
       "    .dataframe tbody tr th {\n",
       "        vertical-align: top;\n",
       "    }\n",
       "\n",
       "    .dataframe thead th {\n",
       "        text-align: right;\n",
       "    }\n",
       "</style>\n",
       "<table border=\"1\" class=\"dataframe\">\n",
       "  <thead>\n",
       "    <tr style=\"text-align: right;\">\n",
       "      <th>DayOfWeek</th>\n",
       "      <th>1</th>\n",
       "      <th>2</th>\n",
       "      <th>3</th>\n",
       "      <th>4</th>\n",
       "      <th>5</th>\n",
       "      <th>6</th>\n",
       "      <th>7</th>\n",
       "    </tr>\n",
       "    <tr>\n",
       "      <th>Month</th>\n",
       "      <th></th>\n",
       "      <th></th>\n",
       "      <th></th>\n",
       "      <th></th>\n",
       "      <th></th>\n",
       "      <th></th>\n",
       "      <th></th>\n",
       "    </tr>\n",
       "  </thead>\n",
       "  <tbody>\n",
       "    <tr>\n",
       "      <th>1</th>\n",
       "      <td>80807</td>\n",
       "      <td>97298</td>\n",
       "      <td>100080</td>\n",
       "      <td>102043</td>\n",
       "      <td>81940</td>\n",
       "      <td>67178</td>\n",
       "      <td>76419</td>\n",
       "    </tr>\n",
       "    <tr>\n",
       "      <th>2</th>\n",
       "      <td>81504</td>\n",
       "      <td>79700</td>\n",
       "      <td>80587</td>\n",
       "      <td>82158</td>\n",
       "      <td>102726</td>\n",
       "      <td>66462</td>\n",
       "      <td>76099</td>\n",
       "    </tr>\n",
       "    <tr>\n",
       "      <th>3</th>\n",
       "      <td>103210</td>\n",
       "      <td>81159</td>\n",
       "      <td>82307</td>\n",
       "      <td>82831</td>\n",
       "      <td>82936</td>\n",
       "      <td>86153</td>\n",
       "      <td>97494</td>\n",
       "    </tr>\n",
       "    <tr>\n",
       "      <th>4</th>\n",
       "      <td>82463</td>\n",
       "      <td>100785</td>\n",
       "      <td>102586</td>\n",
       "      <td>82799</td>\n",
       "      <td>82964</td>\n",
       "      <td>68304</td>\n",
       "      <td>78225</td>\n",
       "    </tr>\n",
       "    <tr>\n",
       "      <th>5</th>\n",
       "      <td>80626</td>\n",
       "      <td>79884</td>\n",
       "      <td>81264</td>\n",
       "      <td>102572</td>\n",
       "      <td>102878</td>\n",
       "      <td>84493</td>\n",
       "      <td>74576</td>\n",
       "    </tr>\n",
       "    <tr>\n",
       "      <th>6</th>\n",
       "      <td>104168</td>\n",
       "      <td>82160</td>\n",
       "      <td>82902</td>\n",
       "      <td>83617</td>\n",
       "      <td>83930</td>\n",
       "      <td>72322</td>\n",
       "      <td>99566</td>\n",
       "    </tr>\n",
       "    <tr>\n",
       "      <th>7</th>\n",
       "      <td>84095</td>\n",
       "      <td>103429</td>\n",
       "      <td>103315</td>\n",
       "      <td>105035</td>\n",
       "      <td>79349</td>\n",
       "      <td>72219</td>\n",
       "      <td>80489</td>\n",
       "    </tr>\n",
       "    <tr>\n",
       "      <th>8</th>\n",
       "      <td>82983</td>\n",
       "      <td>80895</td>\n",
       "      <td>81773</td>\n",
       "      <td>82625</td>\n",
       "      <td>103878</td>\n",
       "      <td>86155</td>\n",
       "      <td>93970</td>\n",
       "    </tr>\n",
       "    <tr>\n",
       "      <th>9</th>\n",
       "      <td>94300</td>\n",
       "      <td>91533</td>\n",
       "      <td>74057</td>\n",
       "      <td>75589</td>\n",
       "      <td>75881</td>\n",
       "      <td>58343</td>\n",
       "      <td>71205</td>\n",
       "    </tr>\n",
       "    <tr>\n",
       "      <th>10</th>\n",
       "      <td>75131</td>\n",
       "      <td>72195</td>\n",
       "      <td>91900</td>\n",
       "      <td>94123</td>\n",
       "      <td>93894</td>\n",
       "      <td>58168</td>\n",
       "      <td>70794</td>\n",
       "    </tr>\n",
       "    <tr>\n",
       "      <th>11</th>\n",
       "      <td>74214</td>\n",
       "      <td>72443</td>\n",
       "      <td>73653</td>\n",
       "      <td>68071</td>\n",
       "      <td>70484</td>\n",
       "      <td>76031</td>\n",
       "      <td>88376</td>\n",
       "    </tr>\n",
       "    <tr>\n",
       "      <th>12</th>\n",
       "      <td>92700</td>\n",
       "      <td>90568</td>\n",
       "      <td>85241</td>\n",
       "      <td>70761</td>\n",
       "      <td>74306</td>\n",
       "      <td>61708</td>\n",
       "      <td>69674</td>\n",
       "    </tr>\n",
       "  </tbody>\n",
       "</table>\n",
       "</div>"
      ],
      "text/plain": [
       "DayOfWeek       1       2       3       4       5      6      7\n",
       "Month                                                          \n",
       "1           80807   97298  100080  102043   81940  67178  76419\n",
       "2           81504   79700   80587   82158  102726  66462  76099\n",
       "3          103210   81159   82307   82831   82936  86153  97494\n",
       "4           82463  100785  102586   82799   82964  68304  78225\n",
       "5           80626   79884   81264  102572  102878  84493  74576\n",
       "6          104168   82160   82902   83617   83930  72322  99566\n",
       "7           84095  103429  103315  105035   79349  72219  80489\n",
       "8           82983   80895   81773   82625  103878  86155  93970\n",
       "9           94300   91533   74057   75589   75881  58343  71205\n",
       "10          75131   72195   91900   94123   93894  58168  70794\n",
       "11          74214   72443   73653   68071   70484  76031  88376\n",
       "12          92700   90568   85241   70761   74306  61708  69674"
      ]
     },
     "execution_count": 13,
     "metadata": {},
     "output_type": "execute_result"
    }
   ],
   "source": [
    "pd.crosstab(flights_df.Month, flights_df.DayOfWeek)"
   ]
  },
  {
   "cell_type": "markdown",
   "metadata": {},
   "source": [
    "**It can also be handy to color such tables in order to easily notice outliers:**"
   ]
  },
  {
   "cell_type": "code",
   "execution_count": 14,
   "metadata": {},
   "outputs": [
    {
     "data": {
      "image/png": "[encoded data removed]",
      "text/plain": [
       "<Figure size 432x288 with 1 Axes>"
      ]
     },
     "metadata": {
      "needs_background": "light"
     },
     "output_type": "display_data"
    }
   ],
   "source": [
    "plt.imshow(pd.crosstab(flights_df.Month, flights_df.DayOfWeek),\n",
    "           cmap='seismic', interpolation='none');"
   ]
  },
  {
   "cell_type": "markdown",
   "metadata": {},
   "source": [
    "**Flight distance histogram:**"
   ]
  },
  {
   "cell_type": "code",
   "execution_count": 11,
   "metadata": {
    "scrolled": true
   },
   "outputs": [
    {
     "data": {
      "image/png": "[encoded data removed]",
      "text/plain": [
       "<Figure size 432x288 with 1 Axes>"
      ]
     },
     "metadata": {
      "needs_background": "light"
     },
     "output_type": "display_data"
    }
   ],
   "source": [
    "flights_df.hist('Distance', bins=20);"
   ]
  },
  {
   "cell_type": "markdown",
   "metadata": {},
   "source": [
    "**Making a histogram of flight frequency by date.**"
   ]
  },
  {
   "cell_type": "code",
   "execution_count": 24,
   "metadata": {},
   "outputs": [],
   "source": [
    "flights_df['Date'] = pd.to_datetime(flights_df.rename(columns={'DayofMonth': 'Day'})[['Year', 'Month', 'Day']])"
   ]
  },
  {
   "cell_type": "code",
   "execution_count": 17,
   "metadata": {},
   "outputs": [],
   "source": [
    "num_flights_by_date = flights_df.groupby('Date').size()"
   ]
  },
  {
   "cell_type": "code",
   "execution_count": 18,
   "metadata": {
    "scrolled": true
   },
   "outputs": [
    {
     "data": {
      "image/png": "[encoded data removed]",
      "text/plain": [
       "<Figure size 432x288 with 1 Axes>"
      ]
     },
     "metadata": {
      "needs_background": "light"
     },
     "output_type": "display_data"
    }
   ],
   "source": [
    "num_flights_by_date.plot();"
   ]
  },
  {
   "cell_type": "markdown",
   "metadata": {},
   "source": [
    "**Do you see a weekly pattern above? And below?**"
   ]
  },
  {
   "cell_type": "code",
   "execution_count": 8,
   "metadata": {},
   "outputs": [
    {
     "ename": "NameError",
     "evalue": "name 'num_flights_by_date' is not defined",
     "output_type": "error",
     "traceback": [
      "\u001b[1;31m\u001b[0m",
      "\u001b[1;31mNameError\u001b[0mTraceback (most recent call last)",
      "\u001b[1;32m<ipython-input-8-156017668d22>\u001b[0m in \u001b[0;36m<module>\u001b[1;34m()\u001b[0m\n\u001b[1;32m----> 1\u001b[1;33m \u001b[0mnum_flights_by_date\u001b[0m\u001b[1;33m.\u001b[0m\u001b[0mrolling\u001b[0m\u001b[1;33m(\u001b[0m\u001b[0mwindow\u001b[0m\u001b[1;33m=\u001b[0m\u001b[1;36m7\u001b[0m\u001b[1;33m)\u001b[0m\u001b[1;33m.\u001b[0m\u001b[0mmean\u001b[0m\u001b[1;33m(\u001b[0m\u001b[1;33m)\u001b[0m\u001b[1;33m.\u001b[0m\u001b[0mplot\u001b[0m\u001b[1;33m(\u001b[0m\u001b[1;33m)\u001b[0m\u001b[1;33m;\u001b[0m\u001b[1;33m\u001b[0m\u001b[0m\n\u001b[0m",
      "\u001b[1;31mNameError\u001b[0m: name 'num_flights_by_date' is not defined"
     ]
    }
   ],
   "source": [
    "num_flights_by_date.rolling(window=7).mean().plot();"
   ]
  },
  {
   "cell_type": "markdown",
   "metadata": {},
   "source": [
    "**1. Find top-10 carriers in terms of the number of completed flights (_UniqueCarrier_ column)?**\n",
    "\n",
    "**Which of the listed below is _not_ in your top-10 list?**\n",
    "- DL\n",
    "- AA\n",
    "- OO\n",
    "- EV "
   ]
  },
  {
   "cell_type": "code",
   "execution_count": 10,
   "metadata": {},
   "outputs": [
    {
     "data": {
      "text/plain": [
       "UniqueCarrier\n",
       "WN    1189365\n",
       "AA     587445\n",
       "OO     554723\n",
       "MQ     472362\n",
       "US     447007\n",
       "DL     445118\n",
       "UA     438974\n",
       "XE     364518\n",
       "NW     344746\n",
       "CO     294753\n",
       "dtype: int64"
      ]
     },
     "execution_count": 10,
     "metadata": {},
     "output_type": "execute_result"
    }
   ],
   "source": [
    "completedFlights = flights_df['Cancelled'] == 0\n",
    "flights_df[completedFlights].groupby('UniqueCarrier').size().sort_values(ascending=False).head(10)"
   ]
  },
  {
   "cell_type": "markdown",
   "metadata": {},
   "source": [
    "**2. Plot distributions of flight cancellation reasons (_CancellationCode_).**\n",
    "\n",
    "**What is the most frequent reason for flight cancellation? (Use this [link](https://www.transtats.bts.gov/Fields.asp?Table_ID=236) to translate codes into reasons)**\n",
    "- carrier\n",
    "- weather conditions \n",
    "- National Air System\n",
    "- security reasons"
   ]
  },
  {
   "cell_type": "code",
   "execution_count": 11,
   "metadata": {},
   "outputs": [
    {
     "name": "stdout",
     "output_type": "stream",
     "text": [
      "CancellationCode\n",
      "A    54330\n",
      "B    54904\n",
      "C    28188\n",
      "D       12\n",
      "dtype: int64\n"
     ]
    }
   ],
   "source": [
    "print(flights_df.groupby('CancellationCode').size());"
   ]
  },
  {
   "cell_type": "markdown",
   "metadata": {},
   "source": [
    "**3. Which route is the most frequent, in terms of the number of flights?**\n",
    "\n",
    "(Take a look at _'Origin'_ and _'Dest'_ features. Consider _A->B_ and _B->A_ directions as _different_ routes) \n",
    "\n",
    " - New-York – Washington\n",
    " - San-Francisco – Los-Angeles \n",
    " - San-Jose – Dallas\n",
    " - New-York – San-Francisco"
   ]
  },
  {
   "cell_type": "code",
   "execution_count": 13,
   "metadata": {},
   "outputs": [
    {
     "data": {
      "text/plain": [
       "Origin  Dest\n",
       "SFO     LAX     13788\n",
       "LAX     SFO     13390\n",
       "OGG     HNL     12383\n",
       "LGA     BOS     12035\n",
       "BOS     LGA     12029\n",
       "HNL     OGG     12014\n",
       "LAX     LAS     11773\n",
       "LAS     LAX     11729\n",
       "LAX     SAN     11257\n",
       "SAN     LAX     11224\n",
       "dtype: int64"
      ]
     },
     "execution_count": 13,
     "metadata": {},
     "output_type": "execute_result"
    }
   ],
   "source": [
    "flights_df.groupby(['Origin', 'Dest']).size().sort_values(ascending=False).head(10)"
   ]
  },
  {
   "cell_type": "markdown",
   "metadata": {},
   "source": [
    "**4. Find top-5 delayed routes (count how many times they were delayed on departure). From all flights on these 5 routes, count all flights with weather conditions contributing to a delay.**\n",
    "\n",
    "- 449 \n",
    "- 539 \n",
    "- 549 \n",
    "- 668 "
   ]
  },
  {
   "cell_type": "code",
   "execution_count": 37,
   "metadata": {},
   "outputs": [
    {
     "data": {
      "text/plain": [
       "Year                 668\n",
       "Month                668\n",
       "DayofMonth           668\n",
       "DayOfWeek            668\n",
       "DepTime              668\n",
       "UniqueCarrier        668\n",
       "FlightNum            668\n",
       "ArrDelay             668\n",
       "DepDelay             668\n",
       "Origin               668\n",
       "Dest                 668\n",
       "Distance             668\n",
       "Cancelled            668\n",
       "CancellationCode       0\n",
       "CarrierDelay         668\n",
       "WeatherDelay         668\n",
       "NASDelay             668\n",
       "SecurityDelay        668\n",
       "LateAircraftDelay    668\n",
       "dtype: int64"
      ]
     },
     "execution_count": 37,
     "metadata": {},
     "output_type": "execute_result"
    }
   ],
   "source": [
    "delayedRoutes = flights_df['DepDelay'] > 0.0\n",
    "top5DelayedRoutes = flights_df[delayedRoutes].groupby(['Origin', 'Dest']).size().sort_values(ascending=False).head(5)\n",
    "top5DelayedRoutes\n",
    "\n",
    "originLAX = flights_df['Origin'] == \"LAX\"\n",
    "destSFO = flights_df['Dest'] == \"SFO\"\n",
    "\n",
    "originDAL = flights_df['Origin'] == \"DAL\"\n",
    "destHOU = flights_df['Dest'] == \"HOU\"\n",
    "\n",
    "originSFO = flights_df['Origin'] == \"SFO\"\n",
    "destLAX = flights_df['Dest'] == \"LAX\"\n",
    "\n",
    "originORD = flights_df['Origin'] == \"ORD\"\n",
    "destLGA = flights_df['Dest'] == \"LGA\"\n",
    "\n",
    "originHOU = flights_df['Origin'] == \"HOU\"\n",
    "destDAL = flights_df['Dest'] == \"DAL\"\n",
    "\n",
    "flight1 = originLAX & destSFO\n",
    "flight2= originDAL & destHOU\n",
    "flight3 = originSFO & destLAX\n",
    "flight4 = originORD & destLGA\n",
    "flight5 = originHOU & destDAL\n",
    "\n",
    "weatherCancellation = flights_df['WeatherDelay'] > 0.0\n",
    "\n",
    "flights_df[ delayedRoutes & weatherCancellation & (flight1 | flight2 | flight3 | flight4 | flight5) ].count()"
   ]
  },
  {
   "cell_type": "markdown",
   "metadata": {},
   "source": [
    "**5. Examine the hourly distribution of departure times. For that, create a new series from DepTime, removing missing values.**\n",
    "\n",
    "**Choose all correct statements:**\n",
    " - Flights are normally distributed within time interval [0-23] (Search for: Normal distribution, bell curve).\n",
    " - Flights are uniformly distributed within time interval [0-23].\n",
    " - In the period from 0 am to 4 am there are considerably less flights than from 7 pm to 8 pm. *****"
   ]
  },
  {
   "cell_type": "code",
   "execution_count": 7,
   "metadata": {},
   "outputs": [
    {
     "data": {
      "text/plain": [
       "<matplotlib.axes._subplots.AxesSubplot at 0x1e87e3c8>"
      ]
     },
     "execution_count": 7,
     "metadata": {},
     "output_type": "execute_result"
    },
    {
     "data": {
      "image/png": "[encoded data removed]",
      "text/plain": [
       "<Figure size 432x288 with 1 Axes>"
      ]
     },
     "metadata": {
      "needs_background": "light"
     },
     "output_type": "display_data"
    }
   ],
   "source": [
    "depTime = flights_df.groupby('DepTime').size()\n",
    "\n",
    "depTime.plot()"
   ]
  },
  {
   "cell_type": "markdown",
   "metadata": {},
   "source": [
    "**6. Show how the number of flights changes through time (on the daily/weekly/monthly basis) and interpret the findings.**\n",
    "\n",
    "**Choose all correct statements:**\n",
    "- The number of flights during weekends is less than during weekdays (working days).\n",
    "- The lowest number of flights is on Sunday.\n",
    "- There are less flights during winter than during summer.  "
   ]
  },
  {
   "cell_type": "code",
   "execution_count": 17,
   "metadata": {},
   "outputs": [
    {
     "data": {
      "text/plain": [
       "<matplotlib.axes._subplots.AxesSubplot at 0x99b9a0b8>"
      ]
     },
     "execution_count": 17,
     "metadata": {},
     "output_type": "execute_result"
    },
    {
     "data": {
      "image/png": "[encoded data removed]",
      "text/plain": [
       "<Figure size 432x288 with 1 Axes>"
      ]
     },
     "metadata": {
      "needs_background": "light"
     },
     "output_type": "display_data"
    }
   ],
   "source": [
    "flights_df['Date'] = pd.to_datetime(flights_df.rename(columns={'DayofMonth': 'Day'})[['Year', 'Month', 'Day']])\n",
    "\n",
    "num_flights_by_date = flights_df.groupby('Date').size()\n",
    "\n",
    "num_flights_by_date.plot()"
   ]
  },
  {
   "cell_type": "code",
   "execution_count": 18,
   "metadata": {},
   "outputs": [
    {
     "data": {
      "text/plain": [
       "<matplotlib.axes._subplots.AxesSubplot at 0x21213470>"
      ]
     },
     "execution_count": 18,
     "metadata": {},
     "output_type": "execute_result"
    },
    {
     "data": {
      "image/png": "[encoded data removed]",
      "text/plain": [
       "<Figure size 432x288 with 1 Axes>"
      ]
     },
     "metadata": {
      "needs_background": "light"
     },
     "output_type": "display_data"
    }
   ],
   "source": [
    "num_flights_by_day  = flights_df.groupby('DayofMonth').size()\n",
    "num_flights_by_day.plot()"
   ]
  },
  {
   "cell_type": "code",
   "execution_count": 19,
   "metadata": {},
   "outputs": [
    {
     "data": {
      "text/plain": [
       "<matplotlib.axes._subplots.AxesSubplot at 0x99b9a9e8>"
      ]
     },
     "execution_count": 19,
     "metadata": {},
     "output_type": "execute_result"
    },
    {
     "data": {
      "image/png": "[encoded data removed]",
      "text/plain": [
       "<Figure size 432x288 with 1 Axes>"
      ]
     },
     "metadata": {
      "needs_background": "light"
     },
     "output_type": "display_data"
    }
   ],
   "source": [
    "num_flights_by_month = flights_df.groupby('Month').size()\n",
    "\n",
    "num_flights_by_month.plot()\n"
   ]
  },
  {
   "cell_type": "code",
   "execution_count": 23,
   "metadata": {},
   "outputs": [
    {
     "data": {
      "text/plain": [
       "<matplotlib.axes._subplots.AxesSubplot at 0x2245c048>"
      ]
     },
     "execution_count": 23,
     "metadata": {},
     "output_type": "execute_result"
    },
    {
     "data": {
      "image/png": "[encoded data removed]",
      "text/plain": [
       "<Figure size 432x288 with 1 Axes>"
      ]
     },
     "metadata": {
      "needs_background": "light"
     },
     "output_type": "display_data"
    }
   ],
   "source": [
    "num_flights_by_day_of_week  = flights_df.groupby('DayOfWeek').size()\n",
    "num_flights_by_day_of_week.plot()"
   ]
  },
  {
   "cell_type": "markdown",
   "metadata": {},
   "source": [
    "**7. Examine the distribution of cancellation reasons with time. Make a bar plot of cancellation reasons aggregated by months.**\n",
    "\n",
    "**Choose all correct statements:**\n",
    "- December has the highest rate of cancellations due to weather. \n",
    "- The highest rate of cancellations in September is due to Security reasons.\n",
    "- April's top cancellation reason is carriers.\n",
    "- Flights cancellations due to National Air System are more frequent than those due to carriers."
   ]
  },
  {
   "cell_type": "code",
   "execution_count": 45,
   "metadata": {},
   "outputs": [
    {
     "data": {
      "text/plain": [
       "UniqueCarrier\n",
       "9E     391\n",
       "AA    3696\n",
       "AS     135\n",
       "B6      43\n",
       "CO      50\n",
       "DL     226\n",
       "EV      29\n",
       "F9       7\n",
       "FL      81\n",
       "HA      29\n",
       "MQ     283\n",
       "NW     122\n",
       "OH      76\n",
       "OO     298\n",
       "UA     494\n",
       "US     335\n",
       "WN     533\n",
       "XE      30\n",
       "YV     454\n",
       "dtype: int64"
      ]
     },
     "execution_count": 45,
     "metadata": {},
     "output_type": "execute_result"
    }
   ],
   "source": [
    "cancelledFlights = flights_df['Cancelled'] == 1\n",
    "# flights_df[cancelledFlights].groupby('Month').size().plot(kind='bar')\n",
    "\n",
    "flights_df[cancelledFlights].groupby('CancellationCode').size()\n",
    "\n",
    "\n",
    "aa = flights_df['CancellationCode'] == \"A\"\n",
    "april = flights_df['Month'] == 4\n",
    "flights_df[cancelledFlights & aa & april].groupby('UniqueCarrier').size()\n",
    "# bb = flights_df['CancellationCode'] == \"B\"\n",
    "# cc = flights_df['CancellationCode'] == \"C\"\n",
    "# dd = flights_df['CancellationCode'] == \"D\"\n",
    "# AcancellationCodeSize = flights_df[cancelledFlights & aa ].groupby('Date').size()\n",
    "# BcancellationCodeSize = flights_df[cancelledFlights & bb].groupby('Date').size()\n",
    "# CcancellationCodeSize = flights_df[cancelledFlights & cc].groupby('Date').size()\n",
    "# DcancellationCodeSize = flights_df[cancelledFlights & dd].groupby('Date').size()\n",
    "\n",
    "# plt.plot(AcancellationCodeSize, label=\"A\")\n",
    "# plt.plot(BcancellationCodeSize, label=\"B\")\n",
    "# plt.plot(CcancellationCodeSize, label=\"C\")\n",
    "# plt.plot(DcancellationCodeSize, label=\"D\")\n",
    "# plt.legend(loc='best')\n",
    "# plt.show()\n",
    "\n"
   ]
  },
  {
   "cell_type": "code",
   "execution_count": 21,
   "metadata": {},
   "outputs": [],
   "source": [
    "# You code here"
   ]
  },
  {
   "cell_type": "markdown",
   "metadata": {},
   "source": [
    "**8. Which month has the greatest number of cancellations due to Carrier?** \n",
    "- May\n",
    "- January\n",
    "- September\n",
    "- April "
   ]
  },
  {
   "cell_type": "code",
   "execution_count": 22,
   "metadata": {},
   "outputs": [],
   "source": [
    "# You code here"
   ]
  },
  {
   "cell_type": "markdown",
   "metadata": {},
   "source": [
    "**9. Identify the carrier with the greatest number of cancellations due to carrier in the corresponding month from the previous question.**\n",
    "\n",
    "- 9E\n",
    "- EV\n",
    "- HA\n",
    "- AA"
   ]
  },
  {
   "cell_type": "code",
   "execution_count": 57,
   "metadata": {},
   "outputs": [
    {
     "data": {
      "text/plain": [
       "UniqueCarrier\n",
       "9E    1448.0\n",
       "AA    1525.0\n",
       "AQ    1430.0\n",
       "AS    1510.0\n",
       "B6    1613.0\n",
       "CO    1509.0\n",
       "DL    1504.0\n",
       "EV    1447.0\n",
       "F9    1520.0\n",
       "FL    1609.0\n",
       "HA    1432.0\n",
       "MQ    1446.0\n",
       "NW    1456.0\n",
       "OH    1450.0\n",
       "OO    1447.0\n",
       "UA    1506.0\n",
       "US    1515.0\n",
       "WN    1536.0\n",
       "XE    1521.0\n",
       "YV    1455.0\n",
       "Name: DepTime, dtype: float16"
      ]
     },
     "execution_count": 57,
     "metadata": {},
     "output_type": "execute_result"
    }
   ],
   "source": [
    "depDelay = flights_df['DepDelay'] >= 0.0\n",
    "arrrDelay = flights_df['ArrDelay'] >= 0.0\n",
    "carrier_df = flights_df[depDelay & arrrDelay].groupby('UniqueCarrier').median()\n",
    "carrier_df['DepTime']"
   ]
  },
  {
   "cell_type": "markdown",
   "metadata": {},
   "source": [
    "**10. Examine median arrival and departure delays (in time) by carrier. Which carrier has the lowest median delay time for both arrivals and departures? Leave only non-negative values of delay times ('ArrDelay', 'DepDelay').\n",
    "[Boxplots](https://seaborn.pydata.org/generated/seaborn.boxplot.html) can be helpful in this exercise, as well as it might be a good idea to remove outliers in order to build nice graphs. You can exclude delay time values higher than a corresponding .95 percentile.**\n",
    "\n",
    "- EV\n",
    "- OO\n",
    "- AA\n",
    "- AQ "
   ]
  },
  {
   "cell_type": "code",
   "execution_count": 25,
   "metadata": {},
   "outputs": [],
   "source": [
    "# You code here"
   ]
  }
 ],
 "metadata": {
  "anaconda-cloud": {},
  "kernelspec": {
   "display_name": "Python 2",
   "language": "python",
   "name": "python2"
  },
  "language_info": {
   "codemirror_mode": {
    "name": "ipython",
    "version": 2
   },
   "file_extension": ".py",
   "mimetype": "text/x-python",
   "name": "python",
   "nbconvert_exporter": "python",
   "pygments_lexer": "ipython2",
   "version": "2.7.15"
  }
 },
 "nbformat": 4,
 "nbformat_minor": 1
}
